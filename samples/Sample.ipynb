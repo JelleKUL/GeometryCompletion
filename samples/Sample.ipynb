{
 "cells": [
  {
   "cell_type": "code",
   "execution_count": 1,
   "metadata": {},
   "outputs": [],
   "source": [
    "from context import jellecomplete"
   ]
  },
  {
   "cell_type": "code",
   "execution_count": 2,
   "metadata": {},
   "outputs": [
    {
     "name": "stdout",
     "output_type": "stream",
     "text": [
      "hello world!\n"
     ]
    }
   ],
   "source": [
    "import jellecomplete.utils as utils\n",
    "print(utils.hello_world())"
   ]
  },
  {
   "cell_type": "code",
   "execution_count": 3,
   "metadata": {},
   "outputs": [],
   "source": [
    "# import a mesh\n",
    "import jellecomplete.complete as complete\n",
    "import open3d as o3d\n",
    "\n",
    "meshPath = \"/Volumes/Data drive/Documents/Doctoraat Local/pointcloud-xr-completion/samples/BigFiles/GrondSampleMesh.obj\"\n",
    "mesh = utils.get_geometry(meshPath)"
   ]
  },
  {
   "cell_type": "code",
   "execution_count": 4,
   "metadata": {},
   "outputs": [],
   "source": [
    "# import pointcloud\n",
    "pcdPath = \"/Volumes/Data drive/Documents/Doctoraat Local/pointcloud-xr-completion/samples/BigFiles/voxel_grond_pointcloud.ply\"\n",
    "pcd = utils.get_geometry(pcdPath)"
   ]
  },
  {
   "cell_type": "code",
   "execution_count": 5,
   "metadata": {},
   "outputs": [],
   "source": [
    "utils.show_geometries([mesh, pcd])"
   ]
  },
  {
   "cell_type": "code",
   "execution_count": 5,
   "metadata": {},
   "outputs": [],
   "source": [
    "pcl = mesh.sample_points_poisson_disk(number_of_points=10000)\n",
    "hull, _ = pcl.compute_convex_hull()\n",
    "hull_ls = o3d.geometry.LineSet.create_from_triangle_mesh(hull)\n",
    "hull_ls.paint_uniform_color((1, 0, 0))\n",
    "o3d.visualization.draw_geometries([mesh, hull_ls])"
   ]
  },
  {
   "cell_type": "code",
   "execution_count": 6,
   "metadata": {},
   "outputs": [],
   "source": [
    "def in_hull(p, hull):\n",
    "    \"\"\"\n",
    "    Test if points in `p` are in `hull`\n",
    "\n",
    "    `p` should be a `NxK` coordinates of `N` points in `K` dimensions\n",
    "    `hull` is either a scipy.spatial.Delaunay object or the `MxK` array of the \n",
    "    coordinates of `M` points in `K`dimensions for which Delaunay triangulation\n",
    "    will be computed\n",
    "    \"\"\"\n",
    "    from scipy.spatial import Delaunay\n",
    "    if not isinstance(hull,Delaunay):\n",
    "        hull = Delaunay(hull)\n",
    "\n",
    "    return hull.find_simplex(p)>=0"
   ]
  },
  {
   "cell_type": "code",
   "execution_count": 7,
   "metadata": {},
   "outputs": [],
   "source": [
    "import numpy as np\n",
    "hullVerts = np.asarray(hull.vertices)\n",
    "points = np.asarray(pcd.points)\n",
    "#print(hullVerts)"
   ]
  },
  {
   "cell_type": "code",
   "execution_count": 8,
   "metadata": {},
   "outputs": [],
   "source": [
    "\n",
    "ind = in_hull(points, hullVerts)\n",
    "intList = []\n",
    "for i,x in enumerate(ind):\n",
    "    if ind[i]:\n",
    "        intList.append(i)\n"
   ]
  },
  {
   "cell_type": "code",
   "execution_count": 17,
   "metadata": {},
   "outputs": [
    {
     "name": "stdout",
     "output_type": "stream",
     "text": [
      "33161\n"
     ]
    }
   ],
   "source": [
    "\n",
    "pcd_in_hull = pcd.select_by_index(intList)\n",
    "print(len(pcd_in_hull.points))\n",
    "utils.show_geometries([pcd_in_hull, pcl])"
   ]
  },
  {
   "cell_type": "code",
   "execution_count": 21,
   "metadata": {},
   "outputs": [],
   "source": [
    "#distance filtering the original point cloud\n",
    "dists = pcd_in_hull.compute_point_cloud_distance(pcl)\n",
    "dists = np.asarray(dists)\n",
    "ind = np.where(dists < 0.05)[0]\n",
    "pcd_without_mesh = pcd_in_hull.select_by_index(ind)\n",
    "utils.show_geometries([pcd_without_mesh,pcl])"
   ]
  },
  {
   "cell_type": "code",
   "execution_count": 23,
   "metadata": {},
   "outputs": [],
   "source": [
    "#distance filtering the new point cloud\n",
    "dists = pcl.compute_point_cloud_distance(pcd_in_hull)\n",
    "dists = np.asarray(dists)\n",
    "ind = np.where(dists > 0.05)[0]\n",
    "pcl_new = pcl.select_by_index(ind)\n",
    "utils.show_geometries([pcl_new,pcd_without_mesh])"
   ]
  },
  {
   "cell_type": "code",
   "execution_count": 24,
   "metadata": {},
   "outputs": [],
   "source": [
    "#combining the 2 pointclouds\n",
    "combined_pcd = pcl_new + pcd_without_mesh\n",
    "\n",
    "utils.show_geometries([combined_pcd])"
   ]
  },
  {
   "cell_type": "code",
   "execution_count": 25,
   "metadata": {},
   "outputs": [],
   "source": [
    "pcd_out_hull = pcd.select_by_index(intList, True)\n",
    "\n",
    "finalPcd = pcd_out_hull + combined_pcd\n",
    "\n",
    "utils.show_geometries([finalPcd])"
   ]
  }
 ],
 "metadata": {
  "interpreter": {
   "hash": "d37ed9e02d0cad3d6966565f8c801423e71c80d3f2ff36d0ff51b18c4410fcb3"
  },
  "kernelspec": {
   "display_name": "Python 3.8.8 ('env': venv)",
   "language": "python",
   "name": "python3"
  },
  "language_info": {
   "codemirror_mode": {
    "name": "ipython",
    "version": 3
   },
   "file_extension": ".py",
   "mimetype": "text/x-python",
   "name": "python",
   "nbconvert_exporter": "python",
   "pygments_lexer": "ipython3",
   "version": "3.8.8"
  },
  "orig_nbformat": 4
 },
 "nbformat": 4,
 "nbformat_minor": 2
}
